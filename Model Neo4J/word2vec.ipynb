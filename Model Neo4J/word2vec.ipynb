{
 "cells": [
  {
   "cell_type": "code",
   "execution_count": null,
   "metadata": {},
   "outputs": [],
   "source": [
    "import pandas as pd\n",
    "import numpy as np\n",
    "import torch\n",
    "from gensim.models import Word2Vec\n",
    "from neo4j import GraphDatabase"
   ]
  },
  {
   "cell_type": "code",
   "execution_count": null,
   "metadata": {},
   "outputs": [],
   "source": [
    "uri = \"bolt://localhost:7687\"\n",
    "username = \"neo4j\"\n",
    "password = \"12345678\"\n",
    "\n",
    "driver = GraphDatabase.driver(uri, auth=(username, password))\n",
    "with driver.session() as session:\n",
    "    result = session.run(\"MATCH (n) RETURN n.label AS label\")\n",
    "    label = pd.DataFrame([record.values() for record in result], columns=result.keys())\n",
    "\n",
    "# Extract the values from the 'label' column and convert to a one-dimensional list\n",
    "label_values = label['label'].tolist()"
   ]
  },
  {
   "cell_type": "code",
   "execution_count": null,
   "metadata": {},
   "outputs": [],
   "source": [
    "# Define a Word2Vec model\n",
    "sentences = [str(text).split() for text in label_values]\n",
    "model = Word2Vec(sentences, vector_size=32, window=5, min_count=1, sg=0)\n",
    "\n",
    "# Function to get embeddings for a list of words\n",
    "def get_sentence_embedding(word_list):\n",
    "    # Get word vectors for each word in the sentence if it exists in the model's vocabulary\n",
    "    word_vectors = [model.wv[word] for word in word_list if word in model.wv.key_to_index]\n",
    "    \n",
    "    # Combine word vectors to represent the sentence\n",
    "    if word_vectors:\n",
    "        sentence_embedding = sum(word_vectors)\n",
    "        return sentence_embedding\n",
    "    else:\n",
    "        return None\n",
    "\n",
    "# Sample DataFrame\n",
    "data = {'text_data': label_values}\n",
    "df = pd.DataFrame(data)\n",
    "\n",
    "# Split the text_data column into lists of words and apply the function to each row\n",
    "df['text_data'] = df['text_data'].apply(lambda x: x.split() if x is not None else [])\n",
    "df['embeddings'] = df['text_data'].apply(lambda x: get_sentence_embedding(x) if x else None)\n",
    "\n",
    "print(df)\n"
   ]
  },
  {
   "cell_type": "code",
   "execution_count": null,
   "metadata": {},
   "outputs": [],
   "source": [
    "df"
   ]
  },
  {
   "cell_type": "code",
   "execution_count": null,
   "metadata": {},
   "outputs": [],
   "source": [
    "# Define a Word2Vec model (you need to define this as you did before)\n",
    "sentences = [str(text).split() for text in label_values]\n",
    "model = Word2Vec(sentences, vector_size=32, window=5, min_count=1, sg=0)\n",
    "\n",
    "# Function to get embeddings for a list of words\n",
    "def get_sentence_embedding(word_list):\n",
    "    word_vectors = [model.wv[word] for word in word_list if word in model.wv.key_to_index]\n",
    "    \n",
    "    if word_vectors:\n",
    "        sentence_embedding = sum(word_vectors)\n",
    "        return sentence_embedding\n",
    "    else:\n",
    "        return None\n",
    "\n",
    "# Sample DataFrame\n",
    "data = {'text_data': label_values}\n",
    "df = pd.DataFrame(data)\n",
    "\n",
    "# Split the text_data column into lists of words and apply the function to each row\n",
    "df['text_data'] = df['text_data'].apply(lambda x: x.split() if x is not None else [])\n",
    "df['embeddings'] = df['text_data'].apply(lambda x: get_sentence_embedding(x) if x else None)\n",
    "\n",
    "print(df['embeddings'])\n",
    "\n",
    "# # Filter out rows where embeddings are not available\n",
    "# df = df.dropna(subset=['embeddings'])\n",
    "\n",
    "# Replace rows where embeddings are not available with a default value (e.g., zeros)\n",
    "default_embedding = np.zeros(32)  # Replace with your desired default value\n",
    "df['embeddings'] = df['embeddings'].apply(lambda x: x if x is not None else default_embedding)\n",
    "\n",
    "# Convert embeddings to a PyTorch tensor\n",
    "embeddings_tensor = torch.tensor(df['embeddings'].to_list())\n",
    "\n",
    "print(embeddings_tensor)\n"
   ]
  },
  {
   "cell_type": "code",
   "execution_count": null,
   "metadata": {},
   "outputs": [],
   "source": [
    "embeddings_tensor.shape"
   ]
  }
 ],
 "metadata": {
  "kernelspec": {
   "display_name": "base",
   "language": "python",
   "name": "python3"
  },
  "language_info": {
   "codemirror_mode": {
    "name": "ipython",
    "version": 3
   },
   "file_extension": ".py",
   "mimetype": "text/x-python",
   "name": "python",
   "nbconvert_exporter": "python",
   "pygments_lexer": "ipython3",
   "version": "3.10.9"
  },
  "orig_nbformat": 4
 },
 "nbformat": 4,
 "nbformat_minor": 2
}
