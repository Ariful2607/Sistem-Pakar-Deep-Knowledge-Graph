{
 "cells": [
  {
   "cell_type": "code",
   "execution_count": 1,
   "metadata": {},
   "outputs": [
    {
     "ename": "ModuleNotFoundError",
     "evalue": "No module named 'tensorflow'",
     "output_type": "error",
     "traceback": [
      "\u001b[1;31m---------------------------------------------------------------------------\u001b[0m",
      "\u001b[1;31mModuleNotFoundError\u001b[0m                       Traceback (most recent call last)",
      "\u001b[1;32m~\\AppData\\Local\\Temp\\ipykernel_12148\\2675179208.py\u001b[0m in \u001b[0;36m<module>\u001b[1;34m\u001b[0m\n\u001b[1;32m----> 1\u001b[1;33m \u001b[1;32mimport\u001b[0m \u001b[0mtensorflow\u001b[0m \u001b[1;32mas\u001b[0m \u001b[0mtf\u001b[0m\u001b[1;33m\u001b[0m\u001b[1;33m\u001b[0m\u001b[0m\n\u001b[0m\u001b[0;32m      2\u001b[0m \u001b[1;32mimport\u001b[0m \u001b[0mnumpy\u001b[0m \u001b[1;32mas\u001b[0m \u001b[0mnp\u001b[0m\u001b[1;33m\u001b[0m\u001b[1;33m\u001b[0m\u001b[0m\n\u001b[0;32m      3\u001b[0m \u001b[1;33m\u001b[0m\u001b[0m\n\u001b[0;32m      4\u001b[0m \u001b[1;31m# Definisi arsitektur DBN\u001b[0m\u001b[1;33m\u001b[0m\u001b[1;33m\u001b[0m\u001b[0m\n\u001b[0;32m      5\u001b[0m \u001b[1;32mclass\u001b[0m \u001b[0mDeepBeliefNetwork\u001b[0m\u001b[1;33m(\u001b[0m\u001b[0mtf\u001b[0m\u001b[1;33m.\u001b[0m\u001b[0mkeras\u001b[0m\u001b[1;33m.\u001b[0m\u001b[0mModel\u001b[0m\u001b[1;33m)\u001b[0m\u001b[1;33m:\u001b[0m\u001b[1;33m\u001b[0m\u001b[1;33m\u001b[0m\u001b[0m\n",
      "\u001b[1;31mModuleNotFoundError\u001b[0m: No module named 'tensorflow'"
     ]
    }
   ],
   "source": [
    "import tensorflow as tf\n",
    "import numpy as np\n",
    "\n",
    "# Definisi arsitektur DBN\n",
    "class DeepBeliefNetwork(tf.keras.Model):\n",
    "    def __init__(self, num_input_features, num_classes):\n",
    "        super(DeepBeliefNetwork, self).__init__()\n",
    "        self.rbm1 = tf.keras.layers.Dense(512, activation='sigmoid')\n",
    "        self.rbm2 = tf.keras.layers.Dense(256, activation='sigmoid')\n",
    "        self.classification_layer = tf.keras.layers.Dense(num_classes, activation='softmax')\n",
    "    \n",
    "    def call(self, inputs):\n",
    "        h1 = self.rbm1(inputs)\n",
    "        h2 = self.rbm2(h1)\n",
    "        return self.classification_layer(h2)\n",
    "\n",
    "# Contoh data pelatihan dan pengujian\n",
    "num_input_features = 100  # Ganti dengan jumlah fitur Knowledge Graph Embed Vector\n",
    "num_classes = 2  # Ganti dengan jumlah kelas klasifikasi\n",
    "num_samples = 1000  # Ganti dengan jumlah sampel pelatihan\n",
    "num_test_samples = 200  # Ganti dengan jumlah sampel pengujian\n",
    "\n",
    "X_train = np.random.rand(num_samples, num_input_features).astype(np.float32)\n",
    "y_train = np.random.randint(0, num_classes, size=num_samples)\n",
    "\n",
    "X_test = np.random.rand(num_test_samples, num_input_features).astype(np.float32)\n",
    "y_test = np.random.randint(0, num_classes, size=num_test_samples)\n",
    "\n",
    "# Inisialisasi model DBN\n",
    "dbn_model = DeepBeliefNetwork(num_input_features, num_classes)\n",
    "\n",
    "# Definisi fungsi kerugian dan optimizer\n",
    "loss_fn = tf.keras.losses.SparseCategoricalCrossentropy()\n",
    "optimizer = tf.keras.optimizers.Adam(learning_rate=0.001)\n",
    "\n",
    "# Fungsi pelatihan\n",
    "@tf.function\n",
    "def train_step(inputs, labels):\n",
    "    with tf.GradientTape() as tape:\n",
    "        predictions = dbn_model(inputs)\n",
    "        loss = loss_fn(labels, predictions)\n",
    "    gradients = tape.gradient(loss, dbn_model.trainable_variables)\n",
    "    optimizer.apply_gradients(zip(gradients, dbn_model.trainable_variables))\n",
    "    return loss\n",
    "\n",
    "# Pelatihan model\n",
    "num_epochs = 10\n",
    "\n",
    "for epoch in range(num_epochs):\n",
    "    total_loss = 0.0\n",
    "    for i in range(num_samples):\n",
    "        inputs, labels = X_train[i:i+1], y_train[i:i+1]\n",
    "        loss = train_step(inputs, labels)\n",
    "        total_loss += loss\n",
    "    print(f'Epoch {epoch+1}, Loss: {total_loss/num_samples}')\n",
    "\n",
    "# Evaluasi model\n",
    "predictions = dbn_model(X_test)\n",
    "predicted_labels = tf.argmax(predictions, axis=1)\n",
    "accuracy = np.mean(np.equal(y_test, predicted_labels))\n",
    "print(f'Accuracy: {accuracy * 100}%')\n"
   ]
  }
 ],
 "metadata": {
  "kernelspec": {
   "display_name": "base",
   "language": "python",
   "name": "python3"
  },
  "language_info": {
   "codemirror_mode": {
    "name": "ipython",
    "version": 3
   },
   "file_extension": ".py",
   "mimetype": "text/x-python",
   "name": "python",
   "nbconvert_exporter": "python",
   "pygments_lexer": "ipython3",
   "version": "3.11.7"
  },
  "orig_nbformat": 4
 },
 "nbformat": 4,
 "nbformat_minor": 2
}
