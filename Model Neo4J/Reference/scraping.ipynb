{
 "cells": [
  {
   "cell_type": "code",
   "execution_count": 2,
   "metadata": {},
   "outputs": [
    {
     "name": "stdout",
     "output_type": "stream",
     "text": [
      "Scraping selesai. Data disimpan di plantix_padi_info.csv\n"
     ]
    }
   ],
   "source": [
    "import requests\n",
    "from bs4 import BeautifulSoup\n",
    "import csv\n",
    "\n",
    "# Fungsi untuk melakukan scraping informasi hama dan penyakit tanaman padi dari Plantix\n",
    "def scrape_plantix_padi(url):\n",
    "    # Mengirimkan permintaan HTTP GET ke halaman web\n",
    "    response = requests.get(url)\n",
    "    \n",
    "    # Memeriksa apakah permintaan berhasil (status kode 200)\n",
    "    if response.status_code == 200:\n",
    "        # Menginisialisasi objek BeautifulSoup untuk parsing HTML\n",
    "        soup = BeautifulSoup(response.content, 'html.parser')\n",
    "        \n",
    "        # Menggunakan elemen HTML yang sesuai untuk mencari informasi hama dan penyakit tanaman padi\n",
    "        pests = soup.find_all('div', class_='pest-info')  # Contoh: sesuaikan dengan struktur HTML Plantix\n",
    "        \n",
    "        # Menyimpan hasil scraping ke dalam file CSV\n",
    "        with open('plantix_padi_info.csv', mode='w', newline='', encoding='utf-8') as file:\n",
    "            writer = csv.writer(file)\n",
    "            writer.writerow(['Nama Hama/Penyakit', 'Deskripsi'])  # Menulis header\n",
    "            \n",
    "            # Menulis data dari setiap hama atau penyakit tanaman padi ke dalam file CSV\n",
    "            for pest in pests:\n",
    "                name = pest.find('h3').text.strip()\n",
    "                description = pest.find('p').text.strip()\n",
    "                writer.writerow([name, description])\n",
    "        \n",
    "        print(f'Scraping selesai. Data disimpan di plantix_padi_info.csv')\n",
    "    else:\n",
    "        print(f'Error: {response.status_code} - Permintaan gagal.')\n",
    "\n",
    "# URL halaman web Plantix yang berisi informasi tentang hama dan penyakit tanaman padi\n",
    "url = 'https://www.plantix.net/id/'\n",
    "\n",
    "# Memanggil fungsi untuk melakukan scraping\n",
    "scrape_plantix_padi(url)\n"
   ]
  }
 ],
 "metadata": {
  "kernelspec": {
   "display_name": "base",
   "language": "python",
   "name": "python3"
  },
  "language_info": {
   "codemirror_mode": {
    "name": "ipython",
    "version": 3
   },
   "file_extension": ".py",
   "mimetype": "text/x-python",
   "name": "python",
   "nbconvert_exporter": "python",
   "pygments_lexer": "ipython3",
   "version": "3.11.5"
  }
 },
 "nbformat": 4,
 "nbformat_minor": 2
}
